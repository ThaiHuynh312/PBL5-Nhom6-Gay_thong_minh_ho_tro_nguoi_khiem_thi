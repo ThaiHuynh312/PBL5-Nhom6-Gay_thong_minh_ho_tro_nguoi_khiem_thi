{
  "cells": [
    {
      "cell_type": "code",
      "execution_count": 1,
      "metadata": {
        "colab": {
          "base_uri": "https://localhost:8080/"
        },
        "id": "dnOFYvW3UpXX",
        "outputId": "b244221c-dd06-461e-e5a7-f39da797ee09"
      },
      "outputs": [
        {
          "name": "stdout",
          "output_type": "stream",
          "text": [
            "Drive already mounted at /content/gdrive; to attempt to forcibly remount, call drive.mount(\"/content/gdrive\", force_remount=True).\n",
            "/content/gdrive/MyDrive\n"
          ]
        }
      ],
      "source": [
        "# 0. Link colab với Drive\n",
        "from google.colab import drive\n",
        "drive.mount('/content/gdrive')\n",
        "%cd /content/gdrive/MyDrive"
      ]
    },
    {
      "cell_type": "code",
      "execution_count": null,
      "metadata": {
        "id": "F2c9mFRhXJ1v"
      },
      "outputs": [],
      "source": [
        "!apt-get install unrar\n",
        "!unrar x /content/gdrive/MyDrive/SSD/SSDtrain.rar /content/gdrive/MyDrive/BEST"
      ]
    },
    {
      "cell_type": "code",
      "execution_count": 4,
      "metadata": {
        "colab": {
          "base_uri": "https://localhost:8080/"
        },
        "id": "w7_bGtgtXljn",
        "outputId": "42ee88d3-163d-42d2-b89c-86679d2b22d4"
      },
      "outputs": [
        {
          "name": "stdout",
          "output_type": "stream",
          "text": [
            "\u001b[31mERROR: pip's dependency resolver does not currently take into account all the packages that are installed. This behaviour is the source of the following dependency conflicts.\n",
            "tensorflow-text 2.16.1 requires tensorflow<2.17,>=2.16.1; platform_machine != \"arm64\" or platform_system != \"Darwin\", but you have tensorflow 2.13.0 which is incompatible.\n",
            "tf-keras 2.16.0 requires tensorflow<2.17,>=2.16, but you have tensorflow 2.13.0 which is incompatible.\n",
            "tf-models-official 2.16.0 requires tensorflow~=2.16.1, but you have tensorflow 2.13.0 which is incompatible.\u001b[0m\u001b[31m\n",
            "\u001b[0mSuccessfully installed keras-2.13.1 tensorboard-2.13.0 tensorflow-2.13.0\n"
          ]
        }
      ],
      "source": [
        "!pip install tensorflow==2.13.0"
      ]
    },
    {
      "cell_type": "code",
      "execution_count": null,
      "metadata": {
        "colab": {
          "base_uri": "https://localhost:8080/"
        },
        "id": "IiDn8qrFW_JU",
        "outputId": "c2f33c95-2c43-4a6e-d2e6-b9886d31214f"
      },
      "outputs": [
        {
          "name": "stdout",
          "output_type": "stream",
          "text": [
            "Requirement already satisfied: tensorflow_io in /usr/local/lib/python3.10/dist-packages (0.36.0)\n",
            "Requirement already satisfied: tensorflow-io-gcs-filesystem==0.36.0 in /usr/local/lib/python3.10/dist-packages (from tensorflow_io) (0.36.0)\n"
          ]
        }
      ],
      "source": [
        "!pip install tensorflow_io"
      ]
    },
    {
      "cell_type": "code",
      "execution_count": null,
      "metadata": {
        "id": "JbzAuPGpXCff"
      },
      "outputs": [],
      "source": [
        "!pip install tf-nightly\n"
      ]
    },
    {
      "cell_type": "code",
      "execution_count": null,
      "metadata": {
        "colab": {
          "base_uri": "https://localhost:8080/",
          "height": 36
        },
        "id": "uJPLAO6JXH3x",
        "outputId": "6476609e-7e49-46d0-c9de-21887f84ace3"
      },
      "outputs": [
        {
          "data": {
            "application/vnd.google.colaboratory.intrinsic+json": {
              "type": "string"
            },
            "text/plain": [
              "'2.15.0'"
            ]
          },
          "execution_count": 2,
          "metadata": {},
          "output_type": "execute_result"
        }
      ],
      "source": [
        "import tensorflow\n",
        "tensorflow.__version__"
      ]
    },
    {
      "cell_type": "code",
      "execution_count": null,
      "metadata": {
        "id": "Ua4by5PLZd9g"
      },
      "outputs": [],
      "source": [
        "%cd /content/gdrive/MyDrive/MY_SSD/models/research\n",
        "!cp object_detection/packages/tf2/setup.py .\n",
        "!python -m pip install ."
      ]
    },
    {
      "cell_type": "code",
      "execution_count": 6,
      "metadata": {
        "colab": {
          "base_uri": "https://localhost:8080/"
        },
        "id": "_H_Kwnj-_lGv",
        "outputId": "0c7664bc-ad4b-4aa5-a92f-fbe8d06b0be0"
      },
      "outputs": [
        {
          "name": "stdout",
          "output_type": "stream",
          "text": [
            "[Errno 2] No such file or directory: '/content/drive/MyDrive/MY_SSD/models/research'\n",
            "/content/gdrive/MyDrive/MY_SSD/models/research\n"
          ]
        }
      ],
      "source": [
        "# 5. Compile the protos -\n",
        "# Protocol Buffers (Protobuf) is a free and open-source cross-platform data format used to serialize structured data.\n",
        "%cd /content/gdrive/MyDrive/MY_SSD/models/research\n",
        "!protoc object_detection/protos/*.proto --python_out=."
      ]
    },
    {
      "cell_type": "code",
      "execution_count": 13,
      "metadata": {
        "colab": {
          "base_uri": "https://localhost:8080/"
        },
        "id": "KdP9vTKnVYwX",
        "outputId": "a8a58404-005b-491e-a25d-7dade2371bac"
      },
      "outputs": [
        {
          "name": "stdout",
          "output_type": "stream",
          "text": [
            "/content/gdrive/MyDrive/MY_SSD/models/research\n",
            "2024-04-23 08:19:18.912420: I tensorflow/tsl/cuda/cudart_stub.cc:28] Could not find cuda drivers on your machine, GPU will not be used.\n",
            "2024-04-23 08:19:18.969614: I tensorflow/tsl/cuda/cudart_stub.cc:28] Could not find cuda drivers on your machine, GPU will not be used.\n",
            "2024-04-23 08:19:18.970306: I tensorflow/core/platform/cpu_feature_guard.cc:182] This TensorFlow binary is optimized to use available CPU instructions in performance-critical operations.\n",
            "To enable the following instructions: AVX2 FMA, in other operations, rebuild TensorFlow with the appropriate compiler flags.\n",
            "2024-04-23 08:19:20.332121: W tensorflow/compiler/tf2tensorrt/utils/py_utils.cc:38] TF-TRT Warning: Could not find TensorRT\n",
            "Traceback (most recent call last):\n",
            "  File \"/content/gdrive/MyDrive/MY_SSD/models/research/export_tflite_graph_tf2.py\", line 160, in <module>\n",
            "    app.run(main)\n",
            "  File \"/usr/local/lib/python3.10/dist-packages/absl/app.py\", line 308, in run\n",
            "    _run_main(main, args)\n",
            "  File \"/usr/local/lib/python3.10/dist-packages/absl/app.py\", line 254, in _run_main\n",
            "    sys.exit(main(argv))\n",
            "  File \"/content/gdrive/MyDrive/MY_SSD/models/research/export_tflite_graph_tf2.py\", line 148, in main\n",
            "    text_format.Parse(f.read(), pipeline_config)\n",
            "  File \"/usr/local/lib/python3.10/dist-packages/google/protobuf/text_format.py\", line 682, in Parse\n",
            "    return ParseLines(text.split(b'\\n' if isinstance(text, bytes) else u'\\n'),\n",
            "  File \"/usr/local/lib/python3.10/dist-packages/google/protobuf/text_format.py\", line 759, in ParseLines\n",
            "    return parser.ParseLines(lines, message)\n",
            "  File \"/usr/local/lib/python3.10/dist-packages/google/protobuf/text_format.py\", line 812, in ParseLines\n",
            "    self._ParseOrMerge(lines, message)\n",
            "  File \"/usr/local/lib/python3.10/dist-packages/google/protobuf/text_format.py\", line 837, in _ParseOrMerge\n",
            "    self._MergeField(tokenizer, message)\n",
            "  File \"/usr/local/lib/python3.10/dist-packages/google/protobuf/text_format.py\", line 967, in _MergeField\n",
            "    merger(tokenizer, message, field)\n",
            "  File \"/usr/local/lib/python3.10/dist-packages/google/protobuf/text_format.py\", line 1042, in _MergeMessageField\n",
            "    self._MergeField(tokenizer, sub_message)\n",
            "  File \"/usr/local/lib/python3.10/dist-packages/google/protobuf/text_format.py\", line 967, in _MergeField\n",
            "    merger(tokenizer, message, field)\n",
            "  File \"/usr/local/lib/python3.10/dist-packages/google/protobuf/text_format.py\", line 1042, in _MergeMessageField\n",
            "    self._MergeField(tokenizer, sub_message)\n",
            "  File \"/usr/local/lib/python3.10/dist-packages/google/protobuf/text_format.py\", line 943, in _MergeField\n",
            "    raise tokenizer.ParseErrorPreviousToken(\n",
            "google.protobuf.text_format.ParseError: 150:5 : Field \"random_adjust_brightness\" is specified along with field \"random_crop_image\", another member of oneof \"preprocessing_step\" for message type \"object_detection.protos.PreprocessingStep\".\n"
          ]
        }
      ],
      "source": [
        "# Export model\n",
        "%cd /content/gdrive/MyDrive/MY_SSD/models/research\n",
        "%cp /content/gdrive/MyDrive/MY_SSD/models/research/object_detection/export_tflite_graph_tf2.py .\n",
        "!python export_tflite_graph_tf2.py --pipeline_config_path=/content/gdrive/MyDrive/MY_SSD/pretrained/ssd_mobilenet_v2_fpnlite_320x320_coco17_tpu-8/pipeline.config \\\n",
        "--trained_checkpoint_dir=/content/gdrive/MyDrive/SSD/SSD_622_16_13/output_model --output_directory=/content/gdrive/MyDrive/MY_SSD/new_data/flite_new"
      ]
    },
    {
      "cell_type": "code",
      "execution_count": 14,
      "metadata": {
        "id": "1T2SQ_n5dQkk"
      },
      "outputs": [],
      "source": [
        "import tensorflow as tf\n",
        "\n",
        "converter = tf.lite.TFLiteConverter.from_saved_model(\"/content/gdrive/MyDrive/MY_SSD/new_data/flite/saved_model\")\n",
        "tflite_model = converter.convert()\n",
        "\n",
        "with open('/content/gdrive/MyDrive/MY_SSD/new_data/flite/model.tflite', 'wb') as f:\n",
        "  f.write(tflite_model)"
      ]
    },
    {
      "cell_type": "code",
      "execution_count": null,
      "metadata": {
        "colab": {
          "base_uri": "https://localhost:8080/"
        },
        "id": "41tAqAgWds4Y",
        "outputId": "f9183c2b-5c4c-4ea3-b82e-38139a43c2eb"
      },
      "outputs": [
        {
          "name": "stdout",
          "output_type": "stream",
          "text": [
            "input details [{'name': 'serving_default_input:0', 'index': 0, 'shape': array([  1, 320, 320,   3], dtype=int32), 'shape_signature': array([  1, 320, 320,   3], dtype=int32), 'dtype': <class 'numpy.float32'>, 'quantization': (0.0, 0), 'quantization_parameters': {'scales': array([], dtype=float32), 'zero_points': array([], dtype=int32), 'quantized_dimension': 0}, 'sparsity_parameters': {}}]\n",
            "ouput details [{'name': 'StatefulPartitionedCall:1', 'index': 339, 'shape': array([ 1, 10], dtype=int32), 'shape_signature': array([ 1, 10], dtype=int32), 'dtype': <class 'numpy.float32'>, 'quantization': (0.0, 0), 'quantization_parameters': {'scales': array([], dtype=float32), 'zero_points': array([], dtype=int32), 'quantized_dimension': 0}, 'sparsity_parameters': {}}, {'name': 'StatefulPartitionedCall:3', 'index': 337, 'shape': array([ 1, 10,  4], dtype=int32), 'shape_signature': array([ 1, 10,  4], dtype=int32), 'dtype': <class 'numpy.float32'>, 'quantization': (0.0, 0), 'quantization_parameters': {'scales': array([], dtype=float32), 'zero_points': array([], dtype=int32), 'quantized_dimension': 0}, 'sparsity_parameters': {}}, {'name': 'StatefulPartitionedCall:0', 'index': 340, 'shape': array([1], dtype=int32), 'shape_signature': array([1], dtype=int32), 'dtype': <class 'numpy.float32'>, 'quantization': (0.0, 0), 'quantization_parameters': {'scales': array([], dtype=float32), 'zero_points': array([], dtype=int32), 'quantized_dimension': 0}, 'sparsity_parameters': {}}, {'name': 'StatefulPartitionedCall:2', 'index': 338, 'shape': array([ 1, 10], dtype=int32), 'shape_signature': array([ 1, 10], dtype=int32), 'dtype': <class 'numpy.float32'>, 'quantization': (0.0, 0), 'quantization_parameters': {'scales': array([], dtype=float32), 'zero_points': array([], dtype=int32), 'quantized_dimension': 0}, 'sparsity_parameters': {}}]\n"
          ]
        }
      ],
      "source": [
        "import tensorflow as tf\n",
        "interpreter = tf.lite.Interpreter(model_path=\"/content/gdrive/MyDrive/BEST/SSD_622_16_3/flite/model.tflite\")\n",
        "interpreter.allocate_tensors()\n",
        "input_details = interpreter.get_input_details()\n",
        "output_details = interpreter.get_output_details()\n",
        "\n",
        "print(\"input details\", input_details)\n",
        "print(\"ouput details\", output_details)\n"
      ]
    },
    {
      "cell_type": "code",
      "execution_count": 4,
      "metadata": {
        "colab": {
          "base_uri": "https://localhost:8080/"
        },
        "id": "vO2n4T-BRBal",
        "outputId": "7187e615-5644-4e91-c06b-0038e7c9a0f8"
      },
      "outputs": [
        {
          "name": "stderr",
          "output_type": "stream",
          "text": [
            "C:\\Users\\Admin\\AppData\\Local\\Temp\\ipykernel_11316\\189671033.py:74: UserWarning: Matplotlib is currently using agg, which is a non-GUI backend, so cannot show the figure.\n",
            "  plt.show()\n",
            "Clipping input data to the valid range for imshow with RGB data ([0..1] for floats or [0..255] for integers).\n"
          ]
        },
        {
          "name": "stdout",
          "output_type": "stream",
          "text": [
            "Done load image \n",
            "Done inference\n",
            "Class: 20000, Score: 0.9979119896888733\n"
          ]
        },
        {
          "name": "stderr",
          "output_type": "stream",
          "text": [
            "C:\\Users\\Admin\\AppData\\Local\\Temp\\ipykernel_11316\\189671033.py:116: UserWarning: Matplotlib is currently using agg, which is a non-GUI backend, so cannot show the figure.\n",
            "  plt.show()\n"
          ]
        }
      ],
      "source": [
        "import io\n",
        "import os\n",
        "import scipy.misc\n",
        "import numpy as np\n",
        "import six\n",
        "import time\n",
        "import glob\n",
        "from IPython.display import display\n",
        "\n",
        "from six import BytesIO\n",
        "\n",
        "import matplotlib\n",
        "import matplotlib.pyplot as plt\n",
        "from PIL import Image, ImageDraw, ImageFont\n",
        "import tensorflow as tf\n",
        "# %cd /content/gdrive/MyDrive/MY_SSD/models/research\n",
        "from object_detection.utils import ops as utils_ops\n",
        "from object_detection.utils import label_map_util\n",
        "from object_detection.utils import visualization_utils as vis_util\n",
        "\n",
        "# Load the TensorFlow Lite model\n",
        "interpreter = tf.lite.Interpreter(model_path=\"F:\\Study\\PBL5\\SSD\\SSDtrain\\SSD_622_16_13\\\\flite_13\\model.tflite\")\n",
        "interpreter.allocate_tensors()\n",
        "\n",
        "input_details = interpreter.get_input_details()\n",
        "output_details = interpreter.get_output_details()\n",
        "\n",
        "# Các hàm inference\n",
        "\n",
        "import cv2\n",
        "\n",
        "def preprocess_image(image):\n",
        "    # Chuyển đổi ảnh sang kiểu dữ liệu FLOAT32 và chuẩn hóa giá trị pixel về khoảng [0, 1]\n",
        "    image = image.astype(np.float32) / 255.0\n",
        "    return image\n",
        "\n",
        "def run_inference_for_single_image(interpreter, image):\n",
        "    # Preprocess the input image\n",
        "    image = cv2.resize(image, (input_details[0]['shape'][2], input_details[0]['shape'][1]))\n",
        "    image = np.expand_dims(image, axis=0)\n",
        "\n",
        "    # Set the input tensor\n",
        "    interpreter.set_tensor(input_details[0]['index'], image)\n",
        "\n",
        "    # Run inference\n",
        "    interpreter.invoke()\n",
        "\n",
        "    # Get outputs\n",
        "    output_dict = {}\n",
        "    for i in range(len(output_details)):\n",
        "        output_data = interpreter.get_tensor(output_details[i]['index'])\n",
        "        output_dict[output_details[i]['name']] = output_data\n",
        "\n",
        "    return output_dict\n",
        "\n",
        "def load_image_into_numpy_array(path):\n",
        "    img_data = tf.io.gfile.GFile(path, 'rb').read()\n",
        "    image = Image.open(BytesIO(img_data))\n",
        "    (im_width, im_height) = image.size\n",
        "    return np.array(image.getdata()).reshape((im_height, im_width, 3)).astype(np.uint8)\n",
        "\n",
        "# Path to label map file\n",
        "label_map_path = \"F:\\Study\\PBL5\\SSD\\SSDtrain\\images\\label_map.txt\"\n",
        "category_index = label_map_util.create_category_index_from_labelmap(label_map_path, use_display_name=True)\n",
        "\n",
        "# Path to input image\n",
        "image_path = 'F:\\Study\\PBL5\\SSD\\darkdata\\\\020000_11.jpg'\n",
        "image_np = load_image_into_numpy_array(image_path)\n",
        "print(\"Done load image \")\n",
        "# Hiển thị ảnh đầu vào\n",
        "plt.figure(figsize=(10, 8))\n",
        "plt.imshow(image_np)\n",
        "plt.axis('off')\n",
        "plt.show()\n",
        "\n",
        "image_np = cv2.resize(image_np, dsize=None, fx=0.3, fy=0.3)  # Giảm kích thước của ảnh\n",
        "image_np = preprocess_image(image_np)\n",
        "output_dict = run_inference_for_single_image(interpreter, image_np)\n",
        "print(\"Done inference\")\n",
        "\n",
        "# Lấy index của phần tử có điểm số cao nhất\n",
        "max_score_index = np.argmax(output_dict['StatefulPartitionedCall:1'])\n",
        "\n",
        "# Lấy box của phần tử có điểm số cao nhất\n",
        "max_score_box = output_dict['StatefulPartitionedCall:3'][0][max_score_index]\n",
        "\n",
        "# Lấy class ID của phần tử có điểm số cao nhất\n",
        "max_score_class_id = (output_dict['StatefulPartitionedCall:2'][0][max_score_index]+1).astype(np.int64)\n",
        "\n",
        "\n",
        "# Lấy tên class từ category_index\n",
        "max_score_class = category_index[max_score_class_id]['name']\n",
        "\n",
        "# Lấy điểm số của phần tử có điểm số cao nhất\n",
        "max_score = output_dict['StatefulPartitionedCall:1'][0][max_score_index]\n",
        "\n",
        "# In ra kết quả dự đoán\n",
        "print(\"Class: {}, Score: {}\".format(max_score_class, max_score))\n",
        "\n",
        "\n",
        "# Hiển thị box của phần tử có điểm số cao nhất\n",
        "vis_util.visualize_boxes_and_labels_on_image_array(\n",
        "    image_np,\n",
        "    np.array([max_score_box]),  # Sử dụng box của phần tử có điểm số cao nhất\n",
        "    np.array([max_score_class_id]),  # Sử dụng class ID của phần tử có điểm số cao nhất\n",
        "    np.array([output_dict['StatefulPartitionedCall:1'][0][max_score_index]]),  # Sử dụng điểm số của phần tử có điểm số cao nhất\n",
        "    category_index,\n",
        "    use_normalized_coordinates=True,\n",
        "    line_thickness=5\n",
        ")\n",
        "\n",
        "# Hiển thị ảnh với box dự đoán\n",
        "plt.figure(figsize=(10, 8))\n",
        "plt.imshow(image_np)\n",
        "plt.axis('off')\n",
        "plt.show()\n"
      ]
    },
    {
      "cell_type": "code",
      "execution_count": 6,
      "metadata": {
        "colab": {
          "base_uri": "https://localhost:8080/",
          "height": 1000
        },
        "id": "p0uikfj6LcaU",
        "outputId": "f3b27c09-d697-4bdc-84ad-26f4ba0c0dae"
      },
      "outputs": [
        {
          "name": "stdout",
          "output_type": "stream",
          "text": [
            "Done load image: F:\\Study\\PBL5\\SSD\\darkdata\\020000_11.jpg \n",
            "Done inference\n",
            "max_score_index: 0, max_score_box: [0.16273206 0.3057245  0.49638796 0.75968516], max_score_class_id: 5, max_score_class: 20000 \n",
            "Class: 20000, Score: 0.9979119896888733\n",
            "Done draw on image \n"
          ]
        },
        {
          "data": {
            "image/jpeg": "[encoded data removed]",
            "image/png": "[encoded data removed]",
            "text/plain": [
              "<PIL.Image.Image image mode=RGB size=778x583>"
            ]
          },
          "metadata": {},
          "output_type": "display_data"
        },
        {
          "data": {
            "text/plain": [
              "'20000'"
            ]
          },
          "execution_count": 6,
          "metadata": {},
          "output_type": "execute_result"
        }
      ],
      "source": [
        "import io\n",
        "import os\n",
        "import scipy.misc\n",
        "import numpy as np\n",
        "import six\n",
        "import time\n",
        "import glob\n",
        "from IPython.display import display\n",
        "\n",
        "from six import BytesIO\n",
        "\n",
        "import matplotlib\n",
        "import matplotlib.pyplot as plt\n",
        "from PIL import Image, ImageDraw, ImageFont\n",
        "import tensorflow as tf\n",
        "# %cd /content/gdrive/MyDrive/MY_SSD/models/research\n",
        "from object_detection.utils import ops as utils_ops\n",
        "from object_detection.utils import label_map_util\n",
        "from object_detection.utils import visualization_utils as vis_util\n",
        "\n",
        "# Load the TensorFlow Lite model\n",
        "interpreter = tf.lite.Interpreter(model_path=\"F:\\Study\\PBL5\\SSD\\SSDtrain\\SSD_622_16_13\\\\flite_13\\model.tflite\")\n",
        "interpreter.allocate_tensors()\n",
        "\n",
        "input_details = interpreter.get_input_details()\n",
        "output_details = interpreter.get_output_details()\n",
        "\n",
        "# Các hàm inference\n",
        "\n",
        "import cv2\n",
        "\n",
        "def preprocess_image(image):\n",
        "    # Chuyển đổi ảnh sang kiểu dữ liệu FLOAT32 và chuẩn hóa giá trị pixel về khoảng [0, 1]\n",
        "    image = image.astype(np.float32) / 255.0\n",
        "    return image\n",
        "\n",
        "def run_inference_for_single_image(interpreter, image):\n",
        "    # Preprocess the input image\n",
        "    image = cv2.resize(image, (input_details[0]['shape'][2], input_details[0]['shape'][1]))\n",
        "    image = np.expand_dims(image, axis=0)\n",
        "\n",
        "    # Set the input tensor\n",
        "    interpreter.set_tensor(input_details[0]['index'], image)\n",
        "\n",
        "    # Run inference\n",
        "    interpreter.invoke()\n",
        "\n",
        "    # Get outputs\n",
        "    output_dict = {}\n",
        "    for i in range(len(output_details)):\n",
        "        output_data = interpreter.get_tensor(output_details[i]['index'])\n",
        "        output_dict[output_details[i]['name']] = output_data\n",
        "\n",
        "    return output_dict\n",
        "\n",
        "def load_image_into_numpy_array(path):\n",
        "    img_data = tf.io.gfile.GFile(path, 'rb').read()\n",
        "    image = Image.open(BytesIO(img_data))\n",
        "    (im_width, im_height) = image.size\n",
        "    return np.array(image.getdata()).reshape((im_height, im_width, 3)).astype(np.uint8)\n",
        "\n",
        "def xuli(image_path):\n",
        "  image_np = load_image_into_numpy_array(image_path)\n",
        "  print(\"Done load image: {} \". format(image_path))\n",
        "  image_np = cv2.resize(image_np, dsize=None, fx=0.3, fy=0.3)\n",
        "  image_np = preprocess_image(image_np)\n",
        "  output_dict = run_inference_for_single_image(interpreter, image_np)\n",
        "  print(\"Done inference\")\n",
        "\n",
        "  # Lấy index của phần tử có điểm số cao nhất\n",
        "  max_score_index = np.argmax(output_dict['StatefulPartitionedCall:1'])\n",
        "\n",
        "\n",
        "  # Lấy box của phần tử có điểm số cao nhất\n",
        "  max_score_box = output_dict['StatefulPartitionedCall:3'][0][max_score_index]\n",
        "\n",
        "  # Lấy class ID của phần tử có điểm số cao nhất\n",
        "  # đây là lord\n",
        "  max_score_class_id = (output_dict['StatefulPartitionedCall:2'][0][max_score_index] + 1).astype(np.int64)\n",
        "\n",
        "\n",
        "  # Lấy tên class từ category_index\n",
        "  max_score_class = category_index[max_score_class_id]['name']\n",
        "  # if max_score_class_id in category_index:\n",
        "  #     # Lấy tên class từ category_index\n",
        "  #     max_score_class = category_index[max_score_class_id]['name']\n",
        "  # else:\n",
        "  #     max_score_class = 'Unknown'\n",
        "  print(\"max_score_index: {}, max_score_box: {}, max_score_class_id: {}, max_score_class: {} \".format(max_score_index, max_score_box, max_score_class_id, max_score_class))\n",
        "\n",
        "  # Lấy điểm số của phần tử có điểm số cao nhất\n",
        "  max_score = output_dict['StatefulPartitionedCall:1'][0][max_score_index]\n",
        "\n",
        "  # In ra kết quả dự đoán\n",
        "  print(\"Class: {}, Score: {}\".format(max_score_class, max_score))\n",
        "\n",
        "\n",
        "  # Hiển thị box của phần tử có điểm số cao nhất\n",
        "  vis_util.visualize_boxes_and_labels_on_image_array(\n",
        "      image_np,\n",
        "      np.array([max_score_box]),  # Sử dụng box của phần tử có điểm số cao nhất\n",
        "      np.array([max_score_class_id]),  # Sử dụng class ID của phần tử có điểm số cao nhất\n",
        "      np.array([output_dict['StatefulPartitionedCall:1'][0][max_score_index]]),  # Sử dụng điểm số của phần tử có điểm số cao nhất\n",
        "      category_index,\n",
        "      use_normalized_coordinates=True,\n",
        "      line_thickness=5\n",
        "  )\n",
        "\n",
        "  line_thickness=5\n",
        "  # )\n",
        "  print(\"Done draw on image \")\n",
        "  # Chuyển đổi kiểu dữ liệu của ảnh về np.uint8 trước khi hiển thị\n",
        "  image_np = image_np.astype(np.uint8)\n",
        "\n",
        "  # Hiển thị ảnh\n",
        "  display(Image.fromarray(image_np))\n",
        "  return max_score_class\n",
        "\n",
        "# Path to label map file\n",
        "label_map_path = \"F:\\Study\\PBL5\\SSD\\SSDtrain\\images\\label_map.txt\"\n",
        "category_index = label_map_util.create_category_index_from_labelmap(label_map_path, use_display_name=True)\n",
        "\n",
        "image_path = 'F:\\Study\\PBL5\\SSD\\darkdata\\\\020000_11.jpg'\n",
        "xuli(image_path)\n"
      ]
    },
    {
      "cell_type": "code",
      "execution_count": null,
      "metadata": {
        "colab": {
          "base_uri": "https://localhost:8080/",
          "height": 373
        },
        "id": "Yi_mXeU1-rNi",
        "outputId": "8008936a-9662-421d-8f45-3d8cd25315e0"
      },
      "outputs": [
        {
          "name": "stdout",
          "output_type": "stream",
          "text": [
            "/content/gdrive/MyDrive/MY_SSD/models/research\n"
          ]
        },
        {
          "ename": "ValueError",
          "evalue": "The truth value of an array with more than one element is ambiguous. Use a.any() or a.all()",
          "output_type": "error",
          "traceback": [
            "\u001b[0;31m---------------------------------------------------------------------------\u001b[0m",
            "\u001b[0;31mValueError\u001b[0m                                Traceback (most recent call last)",
            "\u001b[0;32m<ipython-input-28-2413fcec0ffe>\u001b[0m in \u001b[0;36m<cell line: 142>\u001b[0;34m()\u001b[0m\n\u001b[1;32m    144\u001b[0m     \u001b[0;32mif\u001b[0m \u001b[0mfilename\u001b[0m\u001b[0;34m.\u001b[0m\u001b[0mendswith\u001b[0m\u001b[0;34m(\u001b[0m\u001b[0;34m'jpg'\u001b[0m\u001b[0;34m)\u001b[0m\u001b[0;34m:\u001b[0m\u001b[0;34m\u001b[0m\u001b[0;34m\u001b[0m\u001b[0m\n\u001b[1;32m    145\u001b[0m         \u001b[0mfile_path\u001b[0m \u001b[0;34m=\u001b[0m \u001b[0mos\u001b[0m\u001b[0;34m.\u001b[0m\u001b[0mpath\u001b[0m\u001b[0;34m.\u001b[0m\u001b[0mjoin\u001b[0m\u001b[0;34m(\u001b[0m\u001b[0mfolder_path\u001b[0m\u001b[0;34m,\u001b[0m \u001b[0mfilename\u001b[0m\u001b[0;34m)\u001b[0m\u001b[0;34m\u001b[0m\u001b[0;34m\u001b[0m\u001b[0m\n\u001b[0;32m--> 146\u001b[0;31m         \u001b[0mxuLy\u001b[0m\u001b[0;34m(\u001b[0m\u001b[0mfile_path\u001b[0m\u001b[0;34m)\u001b[0m\u001b[0;34m\u001b[0m\u001b[0;34m\u001b[0m\u001b[0m\n\u001b[0m",
            "\u001b[0;32m<ipython-input-28-2413fcec0ffe>\u001b[0m in \u001b[0;36mxuLy\u001b[0;34m(image_path)\u001b[0m\n\u001b[1;32m     75\u001b[0m     \u001b[0moutput_dict\u001b[0m \u001b[0;34m=\u001b[0m \u001b[0mrun_inference_for_single_image\u001b[0m\u001b[0;34m(\u001b[0m\u001b[0minterpreter\u001b[0m\u001b[0;34m,\u001b[0m \u001b[0mimage_np\u001b[0m\u001b[0;34m)\u001b[0m\u001b[0;34m\u001b[0m\u001b[0;34m\u001b[0m\u001b[0m\n\u001b[1;32m     76\u001b[0m \u001b[0;34m\u001b[0m\u001b[0m\n\u001b[0;32m---> 77\u001b[0;31m     vis_util.visualize_boxes_and_labels_on_image_array(\n\u001b[0m\u001b[1;32m     78\u001b[0m           \u001b[0mimage_np\u001b[0m\u001b[0;34m,\u001b[0m\u001b[0;34m\u001b[0m\u001b[0;34m\u001b[0m\u001b[0m\n\u001b[1;32m     79\u001b[0m           \u001b[0moutput_dict\u001b[0m\u001b[0;34m[\u001b[0m\u001b[0;36m0\u001b[0m\u001b[0;34m]\u001b[0m\u001b[0;34m,\u001b[0m  \u001b[0;31m# detection_boxes\u001b[0m\u001b[0;34m\u001b[0m\u001b[0;34m\u001b[0m\u001b[0m\n",
            "\u001b[0;32m/content/gdrive/MyDrive/MY_SSD/models/research/object_detection/utils/visualization_utils.py\u001b[0m in \u001b[0;36mvisualize_boxes_and_labels_on_image_array\u001b[0;34m(image, boxes, classes, scores, category_index, instance_masks, instance_boundaries, keypoints, keypoint_scores, keypoint_edges, track_ids, use_normalized_coordinates, max_boxes_to_draw, min_score_thresh, agnostic_mode, line_thickness, mask_alpha, groundtruth_box_visualization_color, skip_boxes, skip_scores, skip_labels, skip_track_ids)\u001b[0m\n\u001b[1;32m   1188\u001b[0m     \u001b[0;32mif\u001b[0m \u001b[0mmax_boxes_to_draw\u001b[0m \u001b[0;34m==\u001b[0m \u001b[0mlen\u001b[0m\u001b[0;34m(\u001b[0m\u001b[0mbox_to_color_map\u001b[0m\u001b[0;34m)\u001b[0m\u001b[0;34m:\u001b[0m\u001b[0;34m\u001b[0m\u001b[0;34m\u001b[0m\u001b[0m\n\u001b[1;32m   1189\u001b[0m       \u001b[0;32mbreak\u001b[0m\u001b[0;34m\u001b[0m\u001b[0;34m\u001b[0m\u001b[0m\n\u001b[0;32m-> 1190\u001b[0;31m     \u001b[0;32mif\u001b[0m \u001b[0mscores\u001b[0m \u001b[0;32mis\u001b[0m \u001b[0;32mNone\u001b[0m \u001b[0;32mor\u001b[0m \u001b[0mscores\u001b[0m\u001b[0;34m[\u001b[0m\u001b[0mi\u001b[0m\u001b[0;34m]\u001b[0m \u001b[0;34m>\u001b[0m \u001b[0mmin_score_thresh\u001b[0m\u001b[0;34m:\u001b[0m\u001b[0;34m\u001b[0m\u001b[0;34m\u001b[0m\u001b[0m\n\u001b[0m\u001b[1;32m   1191\u001b[0m       \u001b[0mbox\u001b[0m \u001b[0;34m=\u001b[0m \u001b[0mtuple\u001b[0m\u001b[0;34m(\u001b[0m\u001b[0mboxes\u001b[0m\u001b[0;34m[\u001b[0m\u001b[0mi\u001b[0m\u001b[0;34m]\u001b[0m\u001b[0;34m.\u001b[0m\u001b[0mtolist\u001b[0m\u001b[0;34m(\u001b[0m\u001b[0;34m)\u001b[0m\u001b[0;34m)\u001b[0m\u001b[0;34m\u001b[0m\u001b[0;34m\u001b[0m\u001b[0m\n\u001b[1;32m   1192\u001b[0m       \u001b[0;32mif\u001b[0m \u001b[0minstance_masks\u001b[0m \u001b[0;32mis\u001b[0m \u001b[0;32mnot\u001b[0m \u001b[0;32mNone\u001b[0m\u001b[0;34m:\u001b[0m\u001b[0;34m\u001b[0m\u001b[0;34m\u001b[0m\u001b[0m\n",
            "\u001b[0;31mValueError\u001b[0m: The truth value of an array with more than one element is ambiguous. Use a.any() or a.all()"
          ]
        }
      ],
      "source": [
        "\n",
        "/content/gdrive/MyDrive/BEST/SSD_622_16_3/flite/model.tflite\n",
        "\n",
        "/content/gdrive/MyDrive/datatest\n",
        "\n",
        "/content/gdrive/MyDrive/SSD/images/label_map.txt\n",
        "\n"
      ]
    }
  ],
  "metadata": {
    "colab": {
      "provenance": []
    },
    "kernelspec": {
      "display_name": "Python 3",
      "name": "python3"
    },
    "language_info": {
      "codemirror_mode": {
        "name": "ipython",
        "version": 3
      },
      "file_extension": ".py",
      "mimetype": "text/x-python",
      "name": "python",
      "nbconvert_exporter": "python",
      "pygments_lexer": "ipython3",
      "version": "3.11.5"
    }
  },
  "nbformat": 4,
  "nbformat_minor": 0
}
